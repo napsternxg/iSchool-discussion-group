{
 "cells": [
  {
   "cell_type": "code",
   "execution_count": 1,
   "metadata": {
    "collapsed": false
   },
   "outputs": [
    {
     "name": "stderr",
     "output_type": "stream",
     "text": [
      "/home/entity/anaconda2/lib/python2.7/site-packages/matplotlib/font_manager.py:279: UserWarning: Matplotlib is building the font cache using fc-list. This may take a moment.\n",
      "  warnings.warn('Matplotlib is building the font cache using fc-list. This may take a moment.')\n"
     ]
    },
    {
     "name": "stdout",
     "output_type": "stream",
     "text": [
      "Couldn't import dot_parser, loading of dot files will not be possible.\n"
     ]
    }
   ],
   "source": [
    "%matplotlib inline\n",
    "\n",
    "import numpy as np\n",
    "import pandas as pd\n",
    "\n",
    "import matplotlib.pyplot as plt\n",
    "import seaborn as sns\n",
    "\n",
    "import nltk\n",
    "\n",
    "import gensim\n",
    "\n",
    "sns.set_context(\"poster\")\n",
    "sns.set_style(\"ticks\")"
   ]
  },
  {
   "cell_type": "markdown",
   "metadata": {},
   "source": [
    "# Load google word vectors"
   ]
  },
  {
   "cell_type": "code",
   "execution_count": 2,
   "metadata": {
    "collapsed": false
   },
   "outputs": [
    {
     "name": "stdout",
     "output_type": "stream",
     "text": [
      "CPU times: user 3min 49s, sys: 3.38 s, total: 3min 52s\n",
      "Wall time: 3min 52s\n"
     ]
    }
   ],
   "source": [
    "%%time\n",
    "GOOGLE_FILE=\"/home/entity/Downloads/GoogleNews-vectors-negative300.bin.gz\"\n",
    "google_w2v = gensim.models.Word2Vec.load_word2vec_format(GOOGLE_FILE, binary=True)"
   ]
  },
  {
   "cell_type": "code",
   "execution_count": 3,
   "metadata": {
    "collapsed": false
   },
   "outputs": [
    {
     "data": {
      "text/plain": [
       "[(u'woman', 0.7664012908935547),\n",
       " (u'boy', 0.6824870109558105),\n",
       " (u'teenager', 0.6586930751800537),\n",
       " (u'teenage_girl', 0.6147904396057129),\n",
       " (u'girl', 0.5921714305877686),\n",
       " (u'suspected_purse_snatcher', 0.5716364979743958),\n",
       " (u'robber', 0.5585119128227234),\n",
       " (u'Robbery_suspect', 0.5584409236907959),\n",
       " (u'teen_ager', 0.5549196004867554),\n",
       " (u'men', 0.5489763021469116)]"
      ]
     },
     "execution_count": 3,
     "metadata": {},
     "output_type": "execute_result"
    }
   ],
   "source": [
    "google_w2v.most_similar(\"man\")"
   ]
  },
  {
   "cell_type": "code",
   "execution_count": 4,
   "metadata": {
    "collapsed": false
   },
   "outputs": [
    {
     "data": {
      "text/plain": [
       "[(u'queen', 0.7118192315101624),\n",
       " (u'monarch', 0.6189675331115723),\n",
       " (u'princess', 0.5902431607246399),\n",
       " (u'crown_prince', 0.549946129322052),\n",
       " (u'prince', 0.5377321839332581),\n",
       " (u'kings', 0.5236844420433044),\n",
       " (u'Queen_Consort', 0.5235945582389832),\n",
       " (u'queens', 0.5181134343147278),\n",
       " (u'sultan', 0.5098592638969421),\n",
       " (u'monarchy', 0.5087412595748901)]"
      ]
     },
     "execution_count": 4,
     "metadata": {},
     "output_type": "execute_result"
    }
   ],
   "source": [
    "google_w2v.most_similar(positive=[\"king\", \"woman\"], negative=[\"man\"])"
   ]
  },
  {
   "cell_type": "code",
   "execution_count": 5,
   "metadata": {
    "collapsed": false
   },
   "outputs": [
    {
     "data": {
      "text/plain": [
       "[(u'Beijing', 0.7495015859603882),\n",
       " (u'Shanghai', 0.7269188165664673),\n",
       " (u'Beijng', 0.60747891664505),\n",
       " (u'Chinese', 0.5878241658210754),\n",
       " (u'Bejing', 0.5860649943351746),\n",
       " (u'Guangzhou', 0.5756553411483765),\n",
       " (u'Chongqing', 0.5709290504455566),\n",
       " (u'Kunming', 0.5668627023696899),\n",
       " (u'Shenzhen', 0.5640319585800171),\n",
       " (u'Hong_Kong', 0.5594424605369568)]"
      ]
     },
     "execution_count": 5,
     "metadata": {},
     "output_type": "execute_result"
    }
   ],
   "source": [
    "google_w2v.most_similar(positive=[\"Paris\", \"China\"], negative=[\"France\"])"
   ]
  },
  {
   "cell_type": "code",
   "execution_count": 6,
   "metadata": {
    "collapsed": false
   },
   "outputs": [
    {
     "data": {
      "text/plain": [
       "[(u'excellent', 0.46134570240974426),\n",
       " (u'great', 0.44856947660446167),\n",
       " (u'terrific', 0.41060736775398254),\n",
       " (u'nice', 0.37835827469825745),\n",
       " (u'fantastic', 0.3761696517467499),\n",
       " (u'decent', 0.3729201555252075),\n",
       " (u'solid', 0.37012428045272827),\n",
       " (u'wonderful', 0.3620865046977997),\n",
       " (u'tremendous', 0.36163559556007385),\n",
       " (u'always_prided_ourselves', 0.3539625108242035)]"
      ]
     },
     "execution_count": 6,
     "metadata": {},
     "output_type": "execute_result"
    }
   ],
   "source": [
    "google_w2v.most_similar(positive=[\"good\"], negative=[\"bad\"])"
   ]
  },
  {
   "cell_type": "code",
   "execution_count": 7,
   "metadata": {
    "collapsed": false
   },
   "outputs": [
    {
     "data": {
      "text/plain": [
       "[(u'maniacal_killer', 0.3601454794406891),\n",
       " (u'Bad', 0.3459267020225525),\n",
       " (u'insuring_repackaged_subprime_mortgages', 0.3452882766723633),\n",
       " (u'subprime_mortgage_debacle', 0.33132150769233704),\n",
       " (u'hedge_fund_blowups', 0.3280510902404785),\n",
       " (u'flimflams', 0.3191103935241699),\n",
       " (u'Abu_Ghraibs', 0.3178218901157379),\n",
       " (u'anti_semitic_tirade', 0.3143758177757263),\n",
       " (u'Um_Mazin', 0.31121256947517395),\n",
       " (u'lax_supervision', 0.3109944462776184)]"
      ]
     },
     "execution_count": 7,
     "metadata": {},
     "output_type": "execute_result"
    }
   ],
   "source": [
    "google_w2v.most_similar(positive=[\"bad\"], negative=[\"good\"])"
   ]
  },
  {
   "cell_type": "code",
   "execution_count": 8,
   "metadata": {
    "collapsed": false
   },
   "outputs": [
    {
     "data": {
      "text/plain": [
       "[(u'pleased', 0.3378574252128601),\n",
       " (u'lookforward', 0.33197882771492004),\n",
       " (u'encouraging', 0.3309887647628784),\n",
       " (u'exciting', 0.32575708627700806),\n",
       " (u'Logo_http://www.newscom.com/cgi-bin/prnh/########/CLTH###L',\n",
       "  0.3072405755519867),\n",
       " (u'workwith', 0.3019621670246124),\n",
       " (u'successful', 0.3011923134326935),\n",
       " (u'gratifying', 0.301043838262558),\n",
       " (u'MotorWeb', 0.2997749149799347),\n",
       " (u'Team_Baatar_Hero', 0.2986375093460083)]"
      ]
     },
     "execution_count": 8,
     "metadata": {},
     "output_type": "execute_result"
    }
   ],
   "source": [
    "google_w2v.most_similar(positive=[\"positive\"], negative=[\"negative\"])"
   ]
  },
  {
   "cell_type": "code",
   "execution_count": 9,
   "metadata": {
    "collapsed": false
   },
   "outputs": [
    {
     "data": {
      "text/plain": [
       "[(u'Arrival_enslavement_torture', 0.4068066477775574),\n",
       " (u'mischance', 0.4033198356628418),\n",
       " (u'inflictions', 0.3979420065879822),\n",
       " (u'ignominies', 0.3858671486377716),\n",
       " (u'war_famine_pestilence', 0.3851286470890045),\n",
       " (u'flimflams', 0.3837849795818329),\n",
       " (u'plague_pestilence', 0.38241422176361084),\n",
       " (u'insuring_repackaged_subprime_mortgages', 0.3797731101512909),\n",
       " (u'consequencies', 0.37831756472587585),\n",
       " (u'inflict_grievous', 0.372984915971756)]"
      ]
     },
     "execution_count": 9,
     "metadata": {},
     "output_type": "execute_result"
    }
   ],
   "source": [
    "google_w2v.most_similar(positive=[\"negative\", \"terrible\", \"bad\"],\n",
    "                        negative=[\"positive\", \"good\", \"awesome\"])"
   ]
  },
  {
   "cell_type": "code",
   "execution_count": 10,
   "metadata": {
    "collapsed": false
   },
   "outputs": [
    {
     "data": {
      "text/plain": [
       "[(u'exciting', 0.4522014558315277),\n",
       " (u'enthusiastic', 0.4041129946708679),\n",
       " (u'excited', 0.3937235176563263),\n",
       " (u'fantastic', 0.39167729020118713),\n",
       " (u'Maryeve', 0.37790632247924805),\n",
       " (u'appreciative', 0.3761114180088043),\n",
       " (u'amazing', 0.3760327994823456),\n",
       " (u'excellent', 0.3711940348148346),\n",
       " (u'enthused', 0.36927133798599243),\n",
       " (u'infectiously_enthusiastic', 0.3609645962715149)]"
      ]
     },
     "execution_count": 10,
     "metadata": {},
     "output_type": "execute_result"
    }
   ],
   "source": [
    "google_w2v.most_similar(positive=[\"positive\", \"good\", \"awesome\"],\n",
    "                        negative=[\"negative\", \"terrible\", \"bad\"])"
   ]
  },
  {
   "cell_type": "markdown",
   "metadata": {},
   "source": [
    "## Using in models"
   ]
  },
  {
   "cell_type": "code",
   "execution_count": 11,
   "metadata": {
    "collapsed": true
   },
   "outputs": [],
   "source": [
    "from nltk.corpus import movie_reviews"
   ]
  },
  {
   "cell_type": "code",
   "execution_count": 12,
   "metadata": {
    "collapsed": true
   },
   "outputs": [],
   "source": [
    "documents = [(list(movie_reviews.words(fileid)), category)\n",
    "    for category in movie_reviews.categories()\n",
    "    for fileid in movie_reviews.fileids(category)]"
   ]
  },
  {
   "cell_type": "code",
   "execution_count": 13,
   "metadata": {
    "collapsed": false,
    "scrolled": false
   },
   "outputs": [
    {
     "data": {
      "text/plain": [
       "u'neg'"
      ]
     },
     "execution_count": 13,
     "metadata": {},
     "output_type": "execute_result"
    }
   ],
   "source": [
    "documents[0][1]"
   ]
  },
  {
   "cell_type": "code",
   "execution_count": 14,
   "metadata": {
    "collapsed": false
   },
   "outputs": [
    {
     "data": {
      "text/plain": [
       "u'plot : two teen couples go to a church party , drink and then drive . they get into an accident . one of the guys dies , but his girlfriend continues to see him in her life , and has nightmares . what \\' s the deal ? watch the movie and \" sorta \" find out . . . critique : a mind - fuck movie for the teen generation that touches on a very cool idea , but presents it in a very bad package . which is what makes this review an even harder one to write , since i generally applaud films which attempt to break the mold , mess with your head and such ( lost highway & memento ) , but there are good and bad ways of making all types of films , and these folks just didn \\' t snag this one correctly . they seem to have taken this pretty neat concept , but executed it terribly . so what are the problems with the movie ? well , its main problem is that it \\' s simply too jumbled . it starts off \" normal \" but then downshifts into this \" fantasy \" world in which you , as an audience member , have no idea what \\' s going on . there are dreams , there are characters coming back from the dead , there are others who look like the dead , there are strange apparitions , there are disappearances , there are a looooot of chase scenes , there are tons of weird things that happen , and most of it is simply not explained . now i personally don \\' t mind trying to unravel a film every now and then , but when all it does is give me the same clue over and over again , i get kind of fed up after a while , which is this film \\' s biggest problem . it \\' s obviously got this big secret to hide , but it seems to want to hide it completely until its final five minutes . and do they make things entertaining , thrilling or even engaging , in the meantime ? not really . the sad part is that the arrow and i both dig on flicks like this , so we actually figured most of it out by the half - way point , so all of the strangeness after that did start to make a little bit of sense , but it still didn \\' t the make the film all that more entertaining . i guess the bottom line with movies like this is that you should always make sure that the audience is \" into it \" even before they are given the secret password to enter your world of understanding . i mean , showing melissa sagemiller running away from visions for about 20 minutes throughout the movie is just plain lazy ! ! okay , we get it . . . there are people chasing her and we don \\' t know who they are . do we really need to see it over and over again ? how about giving us different scenes offering further insight into all of the strangeness going down in the movie ? apparently , the studio took this film away from its director and chopped it up themselves , and it shows . there might \\' ve been a pretty decent teen mind - fuck movie in here somewhere , but i guess \" the suits \" decided that turning it into a music video with little edge , would make more sense . the actors are pretty good for the most part , although wes bentley just seemed to be playing the exact same character that he did in american beauty , only in a new neighborhood . but my biggest kudos go out to sagemiller , who holds her own throughout the entire film , and actually has you feeling her character \\' s unraveling . overall , the film doesn \\' t stick because it doesn \\' t entertain , it \\' s confusing , it rarely excites and it feels pretty redundant for most of its runtime , despite a pretty cool ending and explanation to all of the craziness that came before it . oh , and by the way , this is not a horror or teen slasher flick . . . it \\' s just packaged to look that way because someone is apparently assuming that the genre is still hot with the kids . it also wrapped production two years ago and has been sitting on the shelves ever since . whatever . . . skip it ! where \\' s joblo coming from ? a nightmare of elm street 3 ( 7 / 10 ) - blair witch 2 ( 7 / 10 ) - the crow ( 9 / 10 ) - the crow : salvation ( 4 / 10 ) - lost highway ( 10 / 10 ) - memento ( 10 / 10 ) - the others ( 9 / 10 ) - stir of echoes ( 8 / 10 )'"
      ]
     },
     "execution_count": 14,
     "metadata": {},
     "output_type": "execute_result"
    }
   ],
   "source": [
    "\" \".join(documents[0][0])"
   ]
  },
  {
   "cell_type": "code",
   "execution_count": 15,
   "metadata": {
    "collapsed": true
   },
   "outputs": [],
   "source": [
    "from sklearn.linear_model import LogisticRegression\n",
    "from sklearn.metrics import classification_report"
   ]
  },
  {
   "cell_type": "code",
   "execution_count": 16,
   "metadata": {
    "collapsed": true
   },
   "outputs": [],
   "source": [
    "from sklearn.model_selection import train_test_split"
   ]
  },
  {
   "cell_type": "code",
   "execution_count": 17,
   "metadata": {
    "collapsed": false
   },
   "outputs": [
    {
     "name": "stdout",
     "output_type": "stream",
     "text": [
      "(1400, 600)\n"
     ]
    }
   ],
   "source": [
    "train_data, test_data = train_test_split(documents, test_size=0.3)\n",
    "print(len(train_data), len(test_data))"
   ]
  },
  {
   "cell_type": "code",
   "execution_count": 18,
   "metadata": {
    "collapsed": true
   },
   "outputs": [],
   "source": [
    "def get_doc_rep(words):\n",
    "    words = [k for k in words if k in google_w2v]\n",
    "    return google_w2v[words].mean(axis=0)"
   ]
  },
  {
   "cell_type": "code",
   "execution_count": 19,
   "metadata": {
    "collapsed": false
   },
   "outputs": [
    {
     "data": {
      "text/plain": [
       "(300,)"
      ]
     },
     "execution_count": 19,
     "metadata": {},
     "output_type": "execute_result"
    }
   ],
   "source": [
    "get_doc_rep(train_data[0][0]).shape"
   ]
  },
  {
   "cell_type": "code",
   "execution_count": 20,
   "metadata": {
    "collapsed": false
   },
   "outputs": [],
   "source": [
    "def get_corpus(data):\n",
    "    X, y = [], []\n",
    "    for words, label in data:\n",
    "        X.append(get_doc_rep(words))\n",
    "        y.append(label)\n",
    "    return np.array(X), np.array(y)"
   ]
  },
  {
   "cell_type": "code",
   "execution_count": 21,
   "metadata": {
    "collapsed": true
   },
   "outputs": [],
   "source": [
    "train_X, train_y = get_corpus(train_data)\n",
    "test_X, test_y = get_corpus(test_data)"
   ]
  },
  {
   "cell_type": "code",
   "execution_count": 22,
   "metadata": {
    "collapsed": false
   },
   "outputs": [
    {
     "data": {
      "text/plain": [
       "(1400, 300)"
      ]
     },
     "execution_count": 22,
     "metadata": {},
     "output_type": "execute_result"
    }
   ],
   "source": [
    "train_X.shape"
   ]
  },
  {
   "cell_type": "code",
   "execution_count": 23,
   "metadata": {
    "collapsed": false
   },
   "outputs": [
    {
     "data": {
      "text/plain": [
       "{u'neg', u'pos'}"
      ]
     },
     "execution_count": 23,
     "metadata": {},
     "output_type": "execute_result"
    }
   ],
   "source": [
    "set(train_y)"
   ]
  },
  {
   "cell_type": "code",
   "execution_count": 24,
   "metadata": {
    "collapsed": false
   },
   "outputs": [
    {
     "name": "stdout",
     "output_type": "stream",
     "text": [
      "             precision    recall  f1-score   support\n",
      "\n",
      "        neg       0.79      0.73      0.76       757\n",
      "        pos       0.71      0.77      0.74       643\n",
      "\n",
      "avg / total       0.75      0.75      0.75      1400\n",
      "\n",
      "             precision    recall  f1-score   support\n",
      "\n",
      "        neg       0.77      0.75      0.76       302\n",
      "        pos       0.75      0.77      0.76       298\n",
      "\n",
      "avg / total       0.76      0.76      0.76       600\n",
      "\n"
     ]
    }
   ],
   "source": [
    "lr_model = LogisticRegression()\n",
    "lr_model.fit(train_X, train_y)\n",
    "\n",
    "y_pred = lr_model.predict(train_X)\n",
    "print classification_report(y_pred, train_y)\n",
    "\n",
    "y_pred = lr_model.predict(test_X)\n",
    "print classification_report(y_pred, test_y)"
   ]
  },
  {
   "cell_type": "code",
   "execution_count": 25,
   "metadata": {
    "collapsed": true
   },
   "outputs": [],
   "source": [
    "from sklearn.svm import LinearSVC"
   ]
  },
  {
   "cell_type": "code",
   "execution_count": 26,
   "metadata": {
    "collapsed": false
   },
   "outputs": [
    {
     "name": "stdout",
     "output_type": "stream",
     "text": [
      "             precision    recall  f1-score   support\n",
      "\n",
      "        neg       0.87      0.83      0.85       738\n",
      "        pos       0.82      0.86      0.84       662\n",
      "\n",
      "avg / total       0.84      0.84      0.84      1400\n",
      "\n",
      "             precision    recall  f1-score   support\n",
      "\n",
      "        neg       0.82      0.80      0.81       303\n",
      "        pos       0.80      0.82      0.81       297\n",
      "\n",
      "avg / total       0.81      0.81      0.81       600\n",
      "\n"
     ]
    }
   ],
   "source": [
    "lr_model = LinearSVC()\n",
    "lr_model.fit(train_X, train_y)\n",
    "\n",
    "y_pred = lr_model.predict(train_X)\n",
    "print classification_report(y_pred, train_y)\n",
    "\n",
    "y_pred = lr_model.predict(test_X)\n",
    "print classification_report(y_pred, test_y)"
   ]
  },
  {
   "cell_type": "code",
   "execution_count": null,
   "metadata": {
    "collapsed": true
   },
   "outputs": [],
   "source": []
  }
 ],
 "metadata": {
  "anaconda-cloud": {},
  "kernelspec": {
   "display_name": "Python [default]",
   "language": "python",
   "name": "python2"
  },
  "language_info": {
   "codemirror_mode": {
    "name": "ipython",
    "version": 2
   },
   "file_extension": ".py",
   "mimetype": "text/x-python",
   "name": "python",
   "nbconvert_exporter": "python",
   "pygments_lexer": "ipython2",
   "version": "2.7.12"
  }
 },
 "nbformat": 4,
 "nbformat_minor": 1
}
